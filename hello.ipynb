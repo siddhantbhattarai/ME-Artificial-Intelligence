{
 "cells": [
  {
   "cell_type": "code",
   "execution_count": 1,
   "id": "a8ab522f-0879-4eaa-9dac-7e625f6aa8a9",
   "metadata": {},
   "outputs": [
    {
     "name": "stdout",
     "output_type": "stream",
     "text": [
      "Final Weights after Hebbian Learning: [ 2.  2. -2.]\n"
     ]
    }
   ],
   "source": [
    "import numpy as np\n",
    "\n",
    "# Training dataset for AND function\n",
    "X = np.array([[1, 1, 1], [1, -1, 1], [-1, 1, 1], [-1, -1, 1]])  # Includes bias\n",
    "T = np.array([1, -1, -1, -1])  # Target outputs\n",
    "\n",
    "# Initialize weights\n",
    "weights = np.zeros(X.shape[1])\n",
    "\n",
    "# Hebbian Learning Rule\n",
    "for i in range(len(X)):\n",
    "    weights += X[i] * T[i]\n",
    "\n",
    "print(\"Final Weights after Hebbian Learning:\", weights)\n"
   ]
  },
  {
   "cell_type": "code",
   "execution_count": 2,
   "id": "2fe4e80a-d7da-41b6-85cf-b9c80b737e0d",
   "metadata": {},
   "outputs": [
    {
     "name": "stdout",
     "output_type": "stream",
     "text": [
      "Final Weights after Adaline Learning: [ 0.47058824  0.44117647 -0.5       ]\n"
     ]
    }
   ],
   "source": [
    "import numpy as np\n",
    "\n",
    "# Training dataset for AND function\n",
    "X = np.array([[1, 1, 1], [1, -1, 1], [-1, 1, 1], [-1, -1, 1]])  # Includes bias\n",
    "T = np.array([1, -1, -1, -1])  # Target outputs\n",
    "\n",
    "# Initialize weights randomly\n",
    "weights = np.random.rand(X.shape[1])\n",
    "learning_rate = 0.1\n",
    "tolerance = 0.01\n",
    "max_epochs = 100\n",
    "\n",
    "for epoch in range(max_epochs):\n",
    "    weight_change = 0\n",
    "    for i in range(len(X)):\n",
    "        y_in = np.dot(X[i], weights)\n",
    "        delta = (T[i] - y_in)\n",
    "        \n",
    "        weight_update = learning_rate * delta * X[i]\n",
    "        weights += weight_update\n",
    "        \n",
    "        weight_change = max(weight_change, np.abs(weight_update).max())\n",
    "    \n",
    "    if weight_change < tolerance:\n",
    "        print(f\"Converged in {epoch+1} epochs.\")\n",
    "        break\n",
    "\n",
    "print(\"Final Weights after Adaline Learning:\", weights)"
   ]
  },
  {
   "cell_type": "code",
   "execution_count": 3,
   "id": "faca1ea3-ff9f-4325-9367-8323dfc659f3",
   "metadata": {},
   "outputs": [
    {
     "name": "stdout",
     "output_type": "stream",
     "text": [
      "Epoch 1000, MSE: 0.2496\n",
      "Epoch 2000, MSE: 0.2472\n",
      "Epoch 3000, MSE: 0.2312\n",
      "Epoch 4000, MSE: 0.1952\n",
      "Epoch 5000, MSE: 0.1555\n",
      "Epoch 6000, MSE: 0.0539\n",
      "Epoch 7000, MSE: 0.0225\n",
      "Epoch 8000, MSE: 0.0132\n",
      "Epoch 9000, MSE: 0.0091\n",
      "Epoch 10000, MSE: 0.0069\n",
      "\n",
      "Final outputs after training:\n",
      "[[0.08039918]\n",
      " [0.91263535]\n",
      " [0.90887736]\n",
      " [0.072376  ]]\n",
      "\n",
      "Binary outputs:\n",
      "[[0]\n",
      " [1]\n",
      " [1]\n",
      " [0]]\n"
     ]
    }
   ],
   "source": [
    "import numpy as np\n",
    "\n",
    "# Activation function and its derivative (sigmoid)\n",
    "def sigmoid(x):\n",
    "    return 1 / (1 + np.exp(-x))\n",
    "\n",
    "def sigmoid_deriv(x):\n",
    "    # Here x is assumed to be the sigmoid output (f(x))\n",
    "    return x * (1 - x)\n",
    "\n",
    "# Input and target output for XOR\n",
    "# Inputs: two features; add bias later if desired (here we incorporate bias into weights)\n",
    "X = np.array([[0, 0],\n",
    "              [0, 1],\n",
    "              [1, 0],\n",
    "              [1, 1]])\n",
    "# XOR targets: note that XOR(0,0)=0, XOR(0,1)=1, XOR(1,0)=1, XOR(1,1)=0\n",
    "T = np.array([[0],\n",
    "              [1],\n",
    "              [1],\n",
    "              [0]])\n",
    "\n",
    "# Set random seed for reproducibility\n",
    "np.random.seed(42)\n",
    "\n",
    "# Network architecture\n",
    "input_size = 2      # number of input neurons\n",
    "hidden_size = 2     # number of hidden neurons (can experiment with more)\n",
    "output_size = 1     # one output neuron\n",
    "\n",
    "# Initialize weights randomly (including bias as extra weight)\n",
    "# We use a separate bias for each layer (handled separately)\n",
    "weights_input_hidden = np.random.uniform(-1, 1, (input_size, hidden_size))\n",
    "weights_hidden_output = np.random.uniform(-1, 1, (hidden_size, output_size))\n",
    "\n",
    "bias_hidden = np.random.uniform(-1, 1, (1, hidden_size))\n",
    "bias_output = np.random.uniform(-1, 1, (1, output_size))\n",
    "\n",
    "# Training parameters\n",
    "learning_rate = 0.1\n",
    "epochs = 10000\n",
    "\n",
    "# Training loop\n",
    "for epoch in range(epochs):\n",
    "    # Forward pass\n",
    "    hidden_input = np.dot(X, weights_input_hidden) + bias_hidden   # shape: (4, hidden_size)\n",
    "    hidden_output = sigmoid(hidden_input)                            # activation of hidden layer\n",
    "\n",
    "    final_input = np.dot(hidden_output, weights_hidden_output) + bias_output  # shape: (4, output_size)\n",
    "    final_output = sigmoid(final_input)                                     # network output\n",
    "\n",
    "    # Compute error at output\n",
    "    error = T - final_output\n",
    "    mse = np.mean(np.square(error))\n",
    "    \n",
    "    # Backpropagation\n",
    "    # Calculate delta for output layer\n",
    "    delta_output = error * sigmoid_deriv(final_output)\n",
    "    \n",
    "    # Calculate error propagated to hidden layer\n",
    "    error_hidden = delta_output.dot(weights_hidden_output.T)\n",
    "    delta_hidden = error_hidden * sigmoid_deriv(hidden_output)\n",
    "    \n",
    "    # Update weights and biases (gradient descent)\n",
    "    weights_hidden_output += learning_rate * hidden_output.T.dot(delta_output)\n",
    "    bias_output += learning_rate * np.sum(delta_output, axis=0, keepdims=True)\n",
    "    \n",
    "    weights_input_hidden += learning_rate * X.T.dot(delta_hidden)\n",
    "    bias_hidden += learning_rate * np.sum(delta_hidden, axis=0, keepdims=True)\n",
    "    \n",
    "    # Optional: print error every 1000 epochs\n",
    "    if (epoch+1) % 1000 == 0:\n",
    "        print(f\"Epoch {epoch+1}, MSE: {mse:.4f}\")\n",
    "\n",
    "# Testing the network\n",
    "print(\"\\nFinal outputs after training:\")\n",
    "print(final_output)\n",
    "\n",
    "# Convert outputs to binary (0 or 1) using 0.5 as threshold\n",
    "binary_output = (final_output > 0.5).astype(int)\n",
    "print(\"\\nBinary outputs:\")\n",
    "print(binary_output)\n"
   ]
  },
  {
   "cell_type": "code",
   "execution_count": null,
   "id": "ee5d1a8a-ef74-494c-9927-f975460c46c7",
   "metadata": {},
   "outputs": [],
   "source": []
  },
  {
   "cell_type": "code",
   "execution_count": null,
   "id": "9af051f0-548d-4262-804b-21bb3e813899",
   "metadata": {},
   "outputs": [],
   "source": []
  }
 ],
 "metadata": {
  "kernelspec": {
   "display_name": "Python 3 (ipykernel)",
   "language": "python",
   "name": "python3"
  },
  "language_info": {
   "codemirror_mode": {
    "name": "ipython",
    "version": 3
   },
   "file_extension": ".py",
   "mimetype": "text/x-python",
   "name": "python",
   "nbconvert_exporter": "python",
   "pygments_lexer": "ipython3",
   "version": "3.12.3"
  }
 },
 "nbformat": 4,
 "nbformat_minor": 5
}
