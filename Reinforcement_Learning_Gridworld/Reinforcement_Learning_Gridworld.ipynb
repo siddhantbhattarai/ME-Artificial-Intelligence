{
 "cells": [
  {
   "cell_type": "code",
   "execution_count": 1,
   "id": "d1f6d67b-fa44-432e-a495-be3f22ce0b85",
   "metadata": {},
   "outputs": [
    {
     "name": "stdout",
     "output_type": "stream",
     "text": [
      "Training Complete!\n"
     ]
    }
   ],
   "source": [
    "import numpy as np\n",
    "import random\n",
    "\n",
    "# Environment settings\n",
    "grid_size = 5\n",
    "actions = [\"up\", \"down\", \"left\", \"right\"]\n",
    "num_actions = len(actions)\n",
    "\n",
    "# Q-Table initialization\n",
    "q_table = np.zeros((grid_size, grid_size, num_actions))\n",
    "\n",
    "# Parameters\n",
    "alpha = 0.1  # Learning rate\n",
    "gamma = 0.9  # Discount factor\n",
    "epsilon = 0.2  # Exploration rate\n",
    "num_episodes = 500\n",
    "\n",
    "# Reward function (goal at bottom-right)\n",
    "def get_reward(state):\n",
    "    if state == (grid_size - 1, grid_size - 1):\n",
    "        return 10  # Goal reward\n",
    "    return -1  # Step penalty\n",
    "\n",
    "# Q-Learning\n",
    "for episode in range(num_episodes):\n",
    "    state = (0, 0)  # Start at top-left\n",
    "    done = False\n",
    "    while not done:\n",
    "        # Choose action (epsilon-greedy)\n",
    "        if random.uniform(0, 1) < epsilon:\n",
    "            action_idx = random.randint(0, num_actions - 1)  # Explore\n",
    "        else:\n",
    "            action_idx = np.argmax(q_table[state[0], state[1]])  # Exploit\n",
    "\n",
    "        action = actions[action_idx]\n",
    "\n",
    "        # Transition to next state\n",
    "        if action == \"up\" and state[0] > 0:\n",
    "            next_state = (state[0] - 1, state[1])\n",
    "        elif action == \"down\" and state[0] < grid_size - 1:\n",
    "            next_state = (state[0] + 1, state[1])\n",
    "        elif action == \"left\" and state[1] > 0:\n",
    "            next_state = (state[0], state[1] - 1)\n",
    "        elif action == \"right\" and state[1] < grid_size - 1:\n",
    "            next_state = (state[0], state[1] + 1)\n",
    "        else:\n",
    "            next_state = state\n",
    "\n",
    "        reward = get_reward(next_state)\n",
    "\n",
    "        # Q-Table update\n",
    "        best_future_q = np.max(q_table[next_state[0], next_state[1]])\n",
    "        q_table[state[0], state[1], action_idx] += alpha * (reward + gamma * best_future_q - q_table[state[0], state[1], action_idx])\n",
    "\n",
    "        state = next_state\n",
    "\n",
    "        if state == (grid_size - 1, grid_size - 1):  # Reached goal\n",
    "            done = True\n",
    "\n",
    "print(\"Training Complete!\")"
   ]
  },
  {
   "cell_type": "code",
   "execution_count": null,
   "id": "43d106d2-38f5-4c2d-be69-c67c36592d89",
   "metadata": {},
   "outputs": [],
   "source": []
  }
 ],
 "metadata": {
  "kernelspec": {
   "display_name": "Python 3 (ipykernel)",
   "language": "python",
   "name": "python3"
  },
  "language_info": {
   "codemirror_mode": {
    "name": "ipython",
    "version": 3
   },
   "file_extension": ".py",
   "mimetype": "text/x-python",
   "name": "python",
   "nbconvert_exporter": "python",
   "pygments_lexer": "ipython3",
   "version": "3.11.10"
  }
 },
 "nbformat": 4,
 "nbformat_minor": 5
}
