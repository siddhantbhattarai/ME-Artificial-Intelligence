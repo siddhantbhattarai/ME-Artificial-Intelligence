{
 "cells": [
  {
   "cell_type": "code",
   "execution_count": 2,
   "id": "d29d1468-1dc5-4ca8-8802-97e4df7be286",
   "metadata": {},
   "outputs": [
    {
     "name": "stdout",
     "output_type": "stream",
     "text": [
      "Ridge Regression:\n",
      "MAE: 0.11545623836126584\n",
      "MSE: 0.01543855268770194\n",
      "R² Score: 0.9991729346774445\n",
      "\n",
      "Lasso Regression:\n",
      "MAE: 0.05904761904761665\n",
      "MSE: 0.004038095238094934\n",
      "R² Score: 0.9997836734693878\n"
     ]
    }
   ],
   "source": [
    "import numpy as np\n",
    "import pandas as pd\n",
    "from sklearn.model_selection import train_test_split\n",
    "from sklearn.linear_model import Ridge, Lasso\n",
    "from sklearn.metrics import mean_absolute_error, mean_squared_error, r2_score\n",
    "\n",
    "# Sample data (more samples for robust testing)\n",
    "data = pd.DataFrame({\n",
    "    'Feature1': [1, 2, 3, 4, 5, 6, 7],\n",
    "    'Feature2': [2, 4, 6, 8, 10, 12, 14],\n",
    "    'Target': [5, 7, 9, 11, 13, 15, 17]\n",
    "})\n",
    "\n",
    "# Splitting features and target\n",
    "X = data[['Feature1', 'Feature2']]\n",
    "y = data['Target']\n",
    "\n",
    "# Train-test split with larger test size to ensure enough samples in the test set\n",
    "X_train, X_test, y_train, y_test = train_test_split(X, y, test_size=0.3, random_state=42)\n",
    "\n",
    "# Ridge Regression (L2)\n",
    "ridge = Ridge(alpha=1.0)  # λ = 1.0\n",
    "ridge.fit(X_train, y_train)\n",
    "ridge_pred = ridge.predict(X_test)\n",
    "\n",
    "# Lasso Regression (L1)\n",
    "lasso = Lasso(alpha=0.1)  # λ = 0.1\n",
    "lasso.fit(X_train, y_train)\n",
    "lasso_pred = lasso.predict(X_test)\n",
    "\n",
    "# Metrics for Ridge\n",
    "print(\"Ridge Regression:\")\n",
    "print(f\"MAE: {mean_absolute_error(y_test, ridge_pred)}\")\n",
    "print(f\"MSE: {mean_squared_error(y_test, ridge_pred)}\")\n",
    "print(f\"R² Score: {r2_score(y_test, ridge_pred)}\\n\")\n",
    "\n",
    "# Metrics for Lasso\n",
    "print(\"Lasso Regression:\")\n",
    "print(f\"MAE: {mean_absolute_error(y_test, lasso_pred)}\")\n",
    "print(f\"MSE: {mean_squared_error(y_test, lasso_pred)}\")\n",
    "print(f\"R² Score: {r2_score(y_test, lasso_pred)}\")"
   ]
  },
  {
   "cell_type": "code",
   "execution_count": null,
   "id": "1e737c84-fabe-4830-a31c-503980661ae0",
   "metadata": {},
   "outputs": [],
   "source": []
  }
 ],
 "metadata": {
  "kernelspec": {
   "display_name": "Python 3 (ipykernel)",
   "language": "python",
   "name": "python3"
  },
  "language_info": {
   "codemirror_mode": {
    "name": "ipython",
    "version": 3
   },
   "file_extension": ".py",
   "mimetype": "text/x-python",
   "name": "python",
   "nbconvert_exporter": "python",
   "pygments_lexer": "ipython3",
   "version": "3.11.10"
  }
 },
 "nbformat": 4,
 "nbformat_minor": 5
}
