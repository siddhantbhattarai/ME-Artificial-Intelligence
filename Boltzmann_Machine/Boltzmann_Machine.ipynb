{
 "cells": [
  {
   "cell_type": "code",
   "execution_count": 1,
   "id": "896e7426-21d7-42a9-a1c8-ecdb09bdbabf",
   "metadata": {},
   "outputs": [
    {
     "name": "stdout",
     "output_type": "stream",
     "text": [
      "Reconstructed data shape: (1797, 64)\n"
     ]
    }
   ],
   "source": [
    "import numpy as np\n",
    "from sklearn.neural_network import BernoulliRBM\n",
    "from sklearn.pipeline import Pipeline\n",
    "from sklearn import datasets\n",
    "from sklearn.preprocessing import MinMaxScaler\n",
    "\n",
    "# Load the digits dataset (binary pixel data)\n",
    "digits = datasets.load_digits()\n",
    "X = digits.data\n",
    "X = MinMaxScaler().fit_transform(X)  # Normalize the data\n",
    "\n",
    "# Define RBM\n",
    "rbm = BernoulliRBM(n_components=64, learning_rate=0.1, batch_size=10, n_iter=10, random_state=42)\n",
    "\n",
    "# Train the RBM\n",
    "rbm.fit(X)\n",
    "\n",
    "# Reconstruct data\n",
    "reconstructed_X = rbm.transform(X)\n",
    "print(\"Reconstructed data shape:\", reconstructed_X.shape)"
   ]
  },
  {
   "cell_type": "code",
   "execution_count": null,
   "id": "df170bb7-c11c-405b-9dc1-98e97c87c77e",
   "metadata": {},
   "outputs": [],
   "source": []
  }
 ],
 "metadata": {
  "kernelspec": {
   "display_name": "Python 3 (ipykernel)",
   "language": "python",
   "name": "python3"
  },
  "language_info": {
   "codemirror_mode": {
    "name": "ipython",
    "version": 3
   },
   "file_extension": ".py",
   "mimetype": "text/x-python",
   "name": "python",
   "nbconvert_exporter": "python",
   "pygments_lexer": "ipython3",
   "version": "3.11.10"
  }
 },
 "nbformat": 4,
 "nbformat_minor": 5
}
