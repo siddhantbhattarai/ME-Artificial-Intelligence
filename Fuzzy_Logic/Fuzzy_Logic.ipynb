{
 "cells": [
  {
   "cell_type": "code",
   "execution_count": 1,
   "id": "5fbd116c-e2eb-40ec-a4ce-9d617cca9dd9",
   "metadata": {},
   "outputs": [
    {
     "name": "stdout",
     "output_type": "stream",
     "text": [
      "Fan Speed: 82.38095238095238%\n"
     ]
    }
   ],
   "source": [
    "import numpy as np\n",
    "import skfuzzy as fuzz\n",
    "from skfuzzy import control as ctrl\n",
    "\n",
    "# Define fuzzy variables\n",
    "temperature = ctrl.Antecedent(np.arange(0, 41, 1), 'temperature')\n",
    "humidity = ctrl.Antecedent(np.arange(0, 101, 1), 'humidity')\n",
    "fan_speed = ctrl.Consequent(np.arange(0, 101, 1), 'fan_speed')\n",
    "\n",
    "# Membership functions for temperature\n",
    "temperature['cold'] = fuzz.trimf(temperature.universe, [0, 0, 20])\n",
    "temperature['warm'] = fuzz.trimf(temperature.universe, [15, 25, 35])\n",
    "temperature['hot'] = fuzz.trimf(temperature.universe, [30, 40, 40])\n",
    "\n",
    "# Membership functions for humidity\n",
    "humidity['low'] = fuzz.trimf(humidity.universe, [0, 0, 50])\n",
    "humidity['medium'] = fuzz.trimf(humidity.universe, [30, 50, 70])\n",
    "humidity['high'] = fuzz.trimf(humidity.universe, [60, 100, 100])\n",
    "\n",
    "# Membership functions for fan speed\n",
    "fan_speed['low'] = fuzz.trimf(fan_speed.universe, [0, 0, 50])\n",
    "fan_speed['medium'] = fuzz.trimf(fan_speed.universe, [30, 50, 70])\n",
    "fan_speed['high'] = fuzz.trimf(fan_speed.universe, [60, 100, 100])\n",
    "\n",
    "# Define fuzzy rules\n",
    "rule1 = ctrl.Rule(temperature['cold'] & humidity['low'], fan_speed['low'])\n",
    "rule2 = ctrl.Rule(temperature['warm'] & humidity['medium'], fan_speed['medium'])\n",
    "rule3 = ctrl.Rule(temperature['hot'] & humidity['high'], fan_speed['high'])\n",
    "\n",
    "# Create control system\n",
    "fan_control_system = ctrl.ControlSystem([rule1, rule2, rule3])\n",
    "fan_simulation = ctrl.ControlSystemSimulation(fan_control_system)\n",
    "\n",
    "# Input values\n",
    "fan_simulation.input['temperature'] = 35  # Example input\n",
    "fan_simulation.input['humidity'] = 70\n",
    "\n",
    "# Compute the output\n",
    "fan_simulation.compute()\n",
    "print(f\"Fan Speed: {fan_simulation.output['fan_speed']}%\")"
   ]
  }
 ],
 "metadata": {
  "kernelspec": {
   "display_name": "Python 3 (ipykernel)",
   "language": "python",
   "name": "python3"
  },
  "language_info": {
   "codemirror_mode": {
    "name": "ipython",
    "version": 3
   },
   "file_extension": ".py",
   "mimetype": "text/x-python",
   "name": "python",
   "nbconvert_exporter": "python",
   "pygments_lexer": "ipython3",
   "version": "3.11.10"
  }
 },
 "nbformat": 4,
 "nbformat_minor": 5
}
