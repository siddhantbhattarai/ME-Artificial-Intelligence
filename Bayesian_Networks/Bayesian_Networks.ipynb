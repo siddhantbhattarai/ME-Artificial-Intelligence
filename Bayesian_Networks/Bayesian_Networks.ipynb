{
 "cells": [
  {
   "cell_type": "code",
   "execution_count": 3,
   "id": "65c67bb0-f44d-4be3-89a9-1763b4117ced",
   "metadata": {},
   "outputs": [
    {
     "name": "stdout",
     "output_type": "stream",
     "text": [
      "+--------+------------+\n",
      "| Flu    |   phi(Flu) |\n",
      "+========+============+\n",
      "| Flu(0) |     0.7000 |\n",
      "+--------+------------+\n",
      "| Flu(1) |     0.3000 |\n",
      "+--------+------------+\n"
     ]
    }
   ],
   "source": [
    "from pgmpy.models import BayesianNetwork\n",
    "from pgmpy.factors.discrete import TabularCPD\n",
    "from pgmpy.inference import VariableElimination\n",
    "\n",
    "# Define Bayesian Network structure\n",
    "model = BayesianNetwork([('Flu', 'Fever'), ('Flu', 'Cough'), ('Fever', 'BodyAche')])\n",
    "\n",
    "# Define Conditional Probability Tables (CPTs)\n",
    "cpd_flu = TabularCPD(variable='Flu', variable_card=2, values=[[0.8], [0.2]])\n",
    "cpd_fever = TabularCPD(variable='Fever', variable_card=2, \n",
    "                       values=[[0.9, 0.4], [0.1, 0.6]], \n",
    "                       evidence=['Flu'], evidence_card=[2])\n",
    "cpd_cough = TabularCPD(variable='Cough', variable_card=2, \n",
    "                       values=[[0.8, 0.3], [0.2, 0.7]], \n",
    "                       evidence=['Flu'], evidence_card=[2])\n",
    "cpd_bodyache = TabularCPD(variable='BodyAche', variable_card=2, \n",
    "                          values=[[0.7, 0.2], [0.3, 0.8]], \n",
    "                          evidence=['Fever'], evidence_card=[2])\n",
    "\n",
    "# Add CPDs to the model\n",
    "model.add_cpds(cpd_flu, cpd_fever, cpd_cough, cpd_bodyache)\n",
    "\n",
    "# Check if the model is valid\n",
    "assert model.check_model()\n",
    "\n",
    "# Perform inference\n",
    "inference = VariableElimination(model)\n",
    "prob_flu_given_bodyache = inference.query(variables=['Flu'], evidence={'BodyAche': 1})\n",
    "print(prob_flu_given_bodyache)"
   ]
  },
  {
   "cell_type": "code",
   "execution_count": null,
   "id": "f6d2ee3f-db08-41e5-b9fa-26e762bf2cd0",
   "metadata": {},
   "outputs": [],
   "source": []
  }
 ],
 "metadata": {
  "kernelspec": {
   "display_name": "Python 3 (ipykernel)",
   "language": "python",
   "name": "python3"
  },
  "language_info": {
   "codemirror_mode": {
    "name": "ipython",
    "version": 3
   },
   "file_extension": ".py",
   "mimetype": "text/x-python",
   "name": "python",
   "nbconvert_exporter": "python",
   "pygments_lexer": "ipython3",
   "version": "3.11.10"
  }
 },
 "nbformat": 4,
 "nbformat_minor": 5
}
