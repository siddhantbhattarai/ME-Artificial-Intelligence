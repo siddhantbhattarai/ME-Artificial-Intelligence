{
 "cells": [
  {
   "cell_type": "code",
   "execution_count": 2,
   "id": "892eeb10-cff3-4e7f-8afc-f2b79d461fc2",
   "metadata": {},
   "outputs": [
    {
     "name": "stdout",
     "output_type": "stream",
     "text": [
      "House Price Prediction Example:\n",
      "MAE: 18332.740747325006\n",
      "MSE: 405523951.6707611\n",
      "R² Score: 0.9718386144673082\n",
      "Predicted Prices: [320000.         576665.48149465]\n"
     ]
    }
   ],
   "source": [
    "import pandas as pd\n",
    "from sklearn.model_selection import train_test_split\n",
    "from sklearn.linear_model import LinearRegression\n",
    "from sklearn.metrics import mean_absolute_error, mean_squared_error, r2_score\n",
    "\n",
    "# Dataset for house prices\n",
    "data = pd.DataFrame({\n",
    "    'SquareFootage': [1200, 1500, 900, 1800, 2500],\n",
    "    'Bedrooms': [3, 4, 2, 4, 5],\n",
    "    'LocationScore': [7, 8, 6, 9, 10],\n",
    "    'Price': [250000, 310000, 180000, 400000, 550000]\n",
    "})\n",
    "\n",
    "# Splitting features and target\n",
    "X = data[['SquareFootage', 'Bedrooms', 'LocationScore']]\n",
    "y = data['Price']\n",
    "\n",
    "# Train-test split\n",
    "X_train, X_test, y_train, y_test = train_test_split(X, y, test_size=0.3, random_state=42)\n",
    "\n",
    "# Linear Regression model\n",
    "model = LinearRegression()\n",
    "model.fit(X_train, y_train)\n",
    "\n",
    "# Prediction\n",
    "y_pred = model.predict(X_test)\n",
    "\n",
    "# Performance metrics\n",
    "mae = mean_absolute_error(y_test, y_pred)\n",
    "mse = mean_squared_error(y_test, y_pred)\n",
    "r2 = r2_score(y_test, y_pred)\n",
    "\n",
    "print(f\"House Price Prediction Example:\")\n",
    "print(f\"MAE: {mae}\")\n",
    "print(f\"MSE: {mse}\")\n",
    "print(f\"R² Score: {r2}\")\n",
    "print(f\"Predicted Prices: {y_pred}\")\n"
   ]
  },
  {
   "cell_type": "code",
   "execution_count": 3,
   "id": "c55cef9c-6802-4f6d-8ac5-e44f07be33b8",
   "metadata": {},
   "outputs": [
    {
     "name": "stdout",
     "output_type": "stream",
     "text": [
      "Salary Prediction Example:\n",
      "MAE: 3815.919172005917\n",
      "MSE: 19562381.082971178\n",
      "R² Score: 0.8748007610689845\n",
      "Predicted Salaries: [76579.59586003 93947.75751602]\n"
     ]
    }
   ],
   "source": [
    "# Dataset for salary prediction\n",
    "data = pd.DataFrame({\n",
    "    'Experience': [2, 5, 10, 1, 7],\n",
    "    'EducationLevel': [3, 4, 4, 2, 4],\n",
    "    'PerformanceScore': [85, 90, 95, 70, 92],\n",
    "    'Salary': [50000, 75000, 120000, 40000, 100000]\n",
    "})\n",
    "\n",
    "# Splitting features and target\n",
    "X = data[['Experience', 'EducationLevel', 'PerformanceScore']]\n",
    "y = data['Salary']\n",
    "\n",
    "# Train-test split\n",
    "X_train, X_test, y_train, y_test = train_test_split(X, y, test_size=0.3, random_state=42)\n",
    "\n",
    "# Linear Regression model\n",
    "model = LinearRegression()\n",
    "model.fit(X_train, y_train)\n",
    "\n",
    "# Prediction\n",
    "y_pred = model.predict(X_test)\n",
    "\n",
    "# Performance metrics\n",
    "mae = mean_absolute_error(y_test, y_pred)\n",
    "mse = mean_squared_error(y_test, y_pred)\n",
    "r2 = r2_score(y_test, y_pred)\n",
    "\n",
    "print(f\"Salary Prediction Example:\")\n",
    "print(f\"MAE: {mae}\")\n",
    "print(f\"MSE: {mse}\")\n",
    "print(f\"R² Score: {r2}\")\n",
    "print(f\"Predicted Salaries: {y_pred}\")"
   ]
  },
  {
   "cell_type": "code",
   "execution_count": 4,
   "id": "f6f32db0-63b5-4e42-8eb0-5dd5601a916f",
   "metadata": {},
   "outputs": [
    {
     "name": "stdout",
     "output_type": "stream",
     "text": [
      "E-Commerce Sales Prediction Example:\n",
      "MAE: 2384.6153846153825\n",
      "MSE: 11011834.319526615\n",
      "R² Score: 0.10107474942639882\n",
      "Predicted Daily Sales: [ 7923.07692308 10307.69230769]\n"
     ]
    }
   ],
   "source": [
    "# Dataset for daily sales prediction\n",
    "data = pd.DataFrame({\n",
    "    'AdvertisingSpend': [200, 300, 100, 400, 500],\n",
    "    'WebsiteVisits': [1500, 2500, 900, 4000, 3000],\n",
    "    'Discount': [5, 10, 0, 15, 20],\n",
    "    'DailySales': [5000, 8000, 3000, 12000, 15000]\n",
    "})\n",
    "\n",
    "# Splitting features and target\n",
    "X = data[['AdvertisingSpend', 'WebsiteVisits', 'Discount']]\n",
    "y = data['DailySales']\n",
    "\n",
    "# Train-test split\n",
    "X_train, X_test, y_train, y_test = train_test_split(X, y, test_size=0.3, random_state=42)\n",
    "\n",
    "# Linear Regression model\n",
    "model = LinearRegression()\n",
    "model.fit(X_train, y_train)\n",
    "\n",
    "# Prediction\n",
    "y_pred = model.predict(X_test)\n",
    "\n",
    "# Performance metrics\n",
    "mae = mean_absolute_error(y_test, y_pred)\n",
    "mse = mean_squared_error(y_test, y_pred)\n",
    "r2 = r2_score(y_test, y_pred)\n",
    "\n",
    "print(f\"E-Commerce Sales Prediction Example:\")\n",
    "print(f\"MAE: {mae}\")\n",
    "print(f\"MSE: {mse}\")\n",
    "print(f\"R² Score: {r2}\")\n",
    "print(f\"Predicted Daily Sales: {y_pred}\")"
   ]
  },
  {
   "cell_type": "code",
   "execution_count": 5,
   "id": "38f9bce9-6cce-4b77-922a-dff2346ff94e",
   "metadata": {},
   "outputs": [
    {
     "name": "stdout",
     "output_type": "stream",
     "text": [
      "Energy Consumption Prediction Example:\n",
      "MAE: 2.798507462686567\n",
      "MSE: 8.081644018712408\n",
      "R² Score: -2.591841786094404\n",
      "Predicted Energy Consumption: [6.29850746 3.70149254]\n"
     ]
    }
   ],
   "source": [
    "# Dataset for energy consumption prediction\n",
    "data = pd.DataFrame({\n",
    "    'Temperature': [22, 18, 30, 25, 15],\n",
    "    'Occupants': [4, 2, 5, 3, 6],\n",
    "    'ApplianceUsage': [3, 1, 5, 4, 2],\n",
    "    'EnergyConsumption': [8, 4, 12, 10, 7]\n",
    "})\n",
    "\n",
    "# Splitting features and target\n",
    "X = data[['Temperature', 'Occupants', 'ApplianceUsage']]\n",
    "y = data['EnergyConsumption']\n",
    "\n",
    "# Train-test split\n",
    "X_train, X_test, y_train, y_test = train_test_split(X, y, test_size=0.3, random_state=42)\n",
    "\n",
    "# Linear Regression model\n",
    "model = LinearRegression()\n",
    "model.fit(X_train, y_train)\n",
    "\n",
    "# Prediction\n",
    "y_pred = model.predict(X_test)\n",
    "\n",
    "# Performance metrics\n",
    "mae = mean_absolute_error(y_test, y_pred)\n",
    "mse = mean_squared_error(y_test, y_pred)\n",
    "r2 = r2_score(y_test, y_pred)\n",
    "\n",
    "print(f\"Energy Consumption Prediction Example:\")\n",
    "print(f\"MAE: {mae}\")\n",
    "print(f\"MSE: {mse}\")\n",
    "print(f\"R² Score: {r2}\")\n",
    "print(f\"Predicted Energy Consumption: {y_pred}\")"
   ]
  },
  {
   "cell_type": "code",
   "execution_count": null,
   "id": "f840b5b1-5cb5-4792-ac83-4aaa619ba6a0",
   "metadata": {},
   "outputs": [],
   "source": []
  }
 ],
 "metadata": {
  "kernelspec": {
   "display_name": "Python 3 (ipykernel)",
   "language": "python",
   "name": "python3"
  },
  "language_info": {
   "codemirror_mode": {
    "name": "ipython",
    "version": 3
   },
   "file_extension": ".py",
   "mimetype": "text/x-python",
   "name": "python",
   "nbconvert_exporter": "python",
   "pygments_lexer": "ipython3",
   "version": "3.11.10"
  }
 },
 "nbformat": 4,
 "nbformat_minor": 5
}
