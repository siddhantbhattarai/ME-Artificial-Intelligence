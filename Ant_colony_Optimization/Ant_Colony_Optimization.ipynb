{
 "cells": [
  {
   "cell_type": "code",
   "execution_count": 1,
   "id": "e0b31850-9c95-4ff0-8fb4-14df3b28f59d",
   "metadata": {},
   "outputs": [
    {
     "name": "stdout",
     "output_type": "stream",
     "text": [
      "Best path: [2, np.int64(3), np.int64(1), np.int64(0), np.int64(4), 2]\n",
      "Best cost: 26\n"
     ]
    }
   ],
   "source": [
    "import numpy as np\n",
    "import matplotlib.pyplot as plt\n",
    "\n",
    "# Distance matrix (example for 5 cities)\n",
    "distances = np.array([\n",
    "    [0, 2, 9, 10, 7],\n",
    "    [2, 0, 6, 4, 3],\n",
    "    [9, 6, 0, 8, 5],\n",
    "    [10, 4, 8, 0, 6],\n",
    "    [7, 3, 5, 6, 0]\n",
    "])\n",
    "\n",
    "num_cities = distances.shape[0]\n",
    "num_ants = 10\n",
    "alpha = 1  # Pheromone importance\n",
    "beta = 2  # Heuristic importance (inverse of distance)\n",
    "rho = 0.5  # Pheromone evaporation rate\n",
    "max_iter = 100  # Number of iterations\n",
    "\n",
    "# ACO function\n",
    "def ant_colony_optimization(distances, num_ants, alpha, beta, rho, max_iter):\n",
    "    num_cities = distances.shape[0]\n",
    "    pheromones = np.ones((num_cities, num_cities))  # Initial pheromone levels\n",
    "    best_path = None\n",
    "    best_cost = float('inf')\n",
    "    \n",
    "    for iteration in range(max_iter):\n",
    "        all_paths = []\n",
    "        all_costs = []\n",
    "\n",
    "        for _ in range(num_ants):\n",
    "            # Construct a path\n",
    "            path = [np.random.randint(num_cities)]\n",
    "            while len(path) < num_cities:\n",
    "                current_city = path[-1]\n",
    "                probabilities = np.zeros(num_cities)\n",
    "                for next_city in range(num_cities):\n",
    "                    if next_city not in path:\n",
    "                        tau = pheromones[current_city, next_city] ** alpha\n",
    "                        eta = (1 / distances[current_city, next_city]) ** beta\n",
    "                        probabilities[next_city] = tau * eta\n",
    "                \n",
    "                probabilities /= probabilities.sum()\n",
    "                next_city = np.random.choice(np.arange(num_cities), p=probabilities)\n",
    "                path.append(next_city)\n",
    "\n",
    "            path.append(path[0])  # Return to the starting city\n",
    "            cost = sum(distances[path[i], path[i + 1]] for i in range(num_cities))\n",
    "            all_paths.append(path)\n",
    "            all_costs.append(cost)\n",
    "        \n",
    "        # Update best path\n",
    "        if min(all_costs) < best_cost:\n",
    "            best_cost = min(all_costs)\n",
    "            best_path = all_paths[np.argmin(all_costs)]\n",
    "        \n",
    "        # Pheromone update\n",
    "        pheromones *= (1 - rho)\n",
    "        for path, cost in zip(all_paths, all_costs):\n",
    "            for i in range(num_cities):\n",
    "                pheromones[path[i], path[i + 1]] += 1 / cost\n",
    "\n",
    "    return best_path, best_cost\n",
    "\n",
    "# Run ACO\n",
    "best_path, best_cost = ant_colony_optimization(distances, num_ants, alpha, beta, rho, max_iter)\n",
    "print(f\"Best path: {best_path}\")\n",
    "print(f\"Best cost: {best_cost}\")"
   ]
  },
  {
   "cell_type": "code",
   "execution_count": null,
   "id": "997aeecd-a573-4db2-ae47-c36c531308ca",
   "metadata": {},
   "outputs": [],
   "source": []
  }
 ],
 "metadata": {
  "kernelspec": {
   "display_name": "Python 3 (ipykernel)",
   "language": "python",
   "name": "python3"
  },
  "language_info": {
   "codemirror_mode": {
    "name": "ipython",
    "version": 3
   },
   "file_extension": ".py",
   "mimetype": "text/x-python",
   "name": "python",
   "nbconvert_exporter": "python",
   "pygments_lexer": "ipython3",
   "version": "3.11.10"
  }
 },
 "nbformat": 4,
 "nbformat_minor": 5
}
