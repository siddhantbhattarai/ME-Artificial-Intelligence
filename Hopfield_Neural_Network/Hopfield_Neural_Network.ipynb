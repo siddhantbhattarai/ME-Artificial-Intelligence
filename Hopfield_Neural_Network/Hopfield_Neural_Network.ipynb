{
 "cells": [
  {
   "cell_type": "code",
   "execution_count": 1,
   "id": "55260ace-b765-497e-a2e6-70cea05c8cea",
   "metadata": {},
   "outputs": [
    {
     "name": "stdout",
     "output_type": "stream",
     "text": [
      "Input Pattern: [1, -1, 1, 1]\n",
      "Recalled Pattern: [1.0, -1.0, 1.0, -1.0]\n"
     ]
    }
   ],
   "source": [
    "import numpy as np\n",
    "\n",
    "class HopfieldNetwork:\n",
    "    def __init__(self, num_neurons):\n",
    "        self.num_neurons = num_neurons\n",
    "        self.weights = np.zeros((num_neurons, num_neurons))\n",
    "\n",
    "    def train(self, patterns):\n",
    "        for pattern in patterns:\n",
    "            pattern = np.array(pattern)\n",
    "            self.weights += np.outer(pattern, pattern)\n",
    "        np.fill_diagonal(self.weights, 0)  # No self-connections\n",
    "        self.weights /= len(patterns)\n",
    "\n",
    "    def recall(self, input_pattern, max_iterations=100):\n",
    "        current_state = np.array(input_pattern)\n",
    "        for _ in range(max_iterations):\n",
    "            new_state = np.sign(np.dot(self.weights, current_state))\n",
    "            new_state[new_state == 0] = 1\n",
    "            if np.array_equal(new_state, current_state):\n",
    "                break\n",
    "            current_state = new_state\n",
    "        return current_state\n",
    "\n",
    "# Define binary patterns to store\n",
    "patterns = [\n",
    "    [1, -1, 1, -1],\n",
    "    [-1, 1, -1, 1]\n",
    "]\n",
    "\n",
    "# Create Hopfield Network\n",
    "hopfield_net = HopfieldNetwork(num_neurons=4)\n",
    "hopfield_net.train(patterns)\n",
    "\n",
    "# Recall a pattern with noise\n",
    "input_pattern = [1, -1, 1, 1]  # Slightly noisy version of the first pattern\n",
    "recalled_pattern = hopfield_net.recall(input_pattern)\n",
    "print(f\"Input Pattern: {input_pattern}\")\n",
    "print(f\"Recalled Pattern: {recalled_pattern.tolist()}\")"
   ]
  },
  {
   "cell_type": "code",
   "execution_count": null,
   "id": "bcdd1d16-fd25-4b89-b7e4-c6f6b9dfd1ce",
   "metadata": {},
   "outputs": [],
   "source": []
  }
 ],
 "metadata": {
  "kernelspec": {
   "display_name": "Python 3 (ipykernel)",
   "language": "python",
   "name": "python3"
  },
  "language_info": {
   "codemirror_mode": {
    "name": "ipython",
    "version": 3
   },
   "file_extension": ".py",
   "mimetype": "text/x-python",
   "name": "python",
   "nbconvert_exporter": "python",
   "pygments_lexer": "ipython3",
   "version": "3.11.10"
  }
 },
 "nbformat": 4,
 "nbformat_minor": 5
}
